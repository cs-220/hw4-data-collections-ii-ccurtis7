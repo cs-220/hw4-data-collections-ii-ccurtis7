{
 "cells": [
  {
   "cell_type": "markdown",
   "metadata": {},
   "source": [
    "# Find the primes\n",
    "\n",
    "The Sieve of Eratosthenes is an elegant algorithm for finding all of the prime numbers up to some limit n. The basic idea is to first create a list of numbers from 2 to n. The first number is removed from the list, and announced as a prime number, and all the multiples of this number up to n are removed from the list. This process continues until the list is empty.\n",
    "\n",
    "For example, if we wished to find all the primes up to 10, the list would originally contain 2, 3, 4, 5, 6, 7, 8, 9, 10. The 2 is removed and announced to be a prime. Then 4, 6, 8, and 10 are removed, since they are multiples of 2. That leaves 3, 5, 7, 9. Repeating the process, 3 is announced as a prime and removed, and 9 is removed because it is a multiple of 3. That leaves 5 and 7. The algorithm continues by announcing that 5 is a prime and removing it from the list. Finally, 7 is announced and removed, and we're done.\n",
    "\n",
    "Write a program `sieve.py` that prompts the user for n and then uses the sieve algorithm to find all the primes less than or equal to n."
   ]
  },
  {
   "cell_type": "code",
   "execution_count": null,
   "metadata": {},
   "outputs": [],
   "source": []
  },
  {
   "cell_type": "markdown",
   "metadata": {},
   "source": [
    "# Make a Bunch\n",
    "\n",
    "In graphics applications, it is often useful to group separate pieces of a drawing together into a single object (think the **group** functionality in Powerpoint). For example, a face might be drawn from individual shapes, but then positioned as a whole group. Create a new class `GraphicsGroup` that can be used for this purpose. A `GraphicsGroup` will manage a list of graphics objects and have the following methods:\n",
    "\n",
    "* \\_\\_init__(self, anchor) where anchor is a `Point`. Creates an empty group with the given anchor point.\n",
    "* getAnchor(self) Returns a clone of the anchor point.\n",
    "* addObject(self, gObject) where gObject is a graphics object. Adds gObject to the group.\n",
    "* move(self, dx, dy) moves all of the objects in the group (including the anchor point).\n",
    "* draw(self, win) draws all the objects in the group into win. The anchor point is not drawn.\n",
    "* undraw(self, win) undraws all the objects in the group\n",
    "* clone(self) returns a clone of the current `GraphicsGroup` object. \n",
    "\n",
    "Use your new class to write a program that draws a picture with multiple components wherever the user clicks. Previous pictures drawn on the window shouldn't be erased when you click. "
   ]
  },
  {
   "cell_type": "code",
   "execution_count": null,
   "metadata": {},
   "outputs": [],
   "source": []
  }
 ],
 "metadata": {
  "kernelspec": {
   "display_name": "Python 3",
   "language": "python",
   "name": "python3"
  },
  "language_info": {
   "codemirror_mode": {
    "name": "ipython",
    "version": 3
   },
   "file_extension": ".py",
   "mimetype": "text/x-python",
   "name": "python",
   "nbconvert_exporter": "python",
   "pygments_lexer": "ipython3",
   "version": "3.8.8"
  }
 },
 "nbformat": 4,
 "nbformat_minor": 4
}
